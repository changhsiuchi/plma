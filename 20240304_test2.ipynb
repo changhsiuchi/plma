{
  "nbformat": 4,
  "nbformat_minor": 0,
  "metadata": {
    "colab": {
      "provenance": [],
      "toc_visible": true
    },
    "kernelspec": {
      "name": "python3",
      "display_name": "Python 3"
    },
    "language_info": {
      "name": "python"
    }
  },
  "cells": [
    {
      "cell_type": "code",
      "execution_count": null,
      "metadata": {
        "colab": {
          "base_uri": "https://localhost:8080/"
        },
        "id": "WDIaUMdxdwsX",
        "outputId": "de5a474f-d566-4825-8202-8bf77eee7771"
      },
      "outputs": [
        {
          "output_type": "stream",
          "name": "stdout",
          "text": [
            "495\n"
          ]
        }
      ],
      "source": [
        "x = 2\n",
        "y = 1\n",
        "\n",
        "result = (2*x + y) * (100 - y)\n",
        "print(result)"
      ]
    },
    {
      "cell_type": "code",
      "source": [
        "y=4\n",
        "\n",
        "result=100/(2*y+1)\n",
        "print(result)"
      ],
      "metadata": {
        "colab": {
          "base_uri": "https://localhost:8080/"
        },
        "id": "ryMhKhZGQzfz",
        "outputId": "3733c951-a086-411d-d5f0-ea2d016aa40b"
      },
      "execution_count": null,
      "outputs": [
        {
          "output_type": "stream",
          "name": "stdout",
          "text": [
            "11.11111111111111\n"
          ]
        }
      ]
    }
  ]
}