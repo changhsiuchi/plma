{
  "cells": [
    {
      "cell_type": "code",
      "execution_count": null,
      "metadata": {
        "id": "1MENdkTXDhbj",
        "colab": {
          "base_uri": "https://localhost:8080/"
        },
        "outputId": "1917f592-f26e-42b5-843e-f254d38a9056"
      },
      "outputs": [
        {
          "output_type": "stream",
          "name": "stdout",
          "text": [
            "I'm a student\n"
          ]
        }
      ],
      "source": [
        "print(\"I'm a student\")"
      ]
    },
    {
      "cell_type": "code",
      "source": [
        "import math\n",
        "\n",
        "x1, y1 = map(float, input(\"請輸入點 A 的座標 (x1 y1): \").split())\n",
        "x2, y2 = map(float, input(\"請輸入點 B 的座標 (x2 y2): \").split())\n",
        "\n",
        "distance = math.sqrt((x2 - x1)**2 + (y2 - y1)**2)\n",
        "print(\"AB間的距離為:\", distance)"
      ],
      "metadata": {
        "id": "sZPFN6d7pfzZ",
        "outputId": "b3cf29be-65e8-42bd-9ea2-b1294b9a7d33",
        "colab": {
          "base_uri": "https://localhost:8080/"
        }
      },
      "execution_count": null,
      "outputs": [
        {
          "output_type": "stream",
          "name": "stdout",
          "text": [
            "請輸入點 A 的座標 (x1 y1): 1 1 \n",
            "請輸入點 B 的座標 (x2 y2): 2 2 \n",
            "AB間的距離為: 1.4142135623730951\n"
          ]
        }
      ]
    },
    {
      "cell_type": "code",
      "source": [
        "height=float(input(\"請輸入身高（公分）: \"))\n",
        "weight=float(input(\"請輸入體重（公斤）: \"))\n",
        "height*=height\n",
        "bmi=weight/((height/10000))\n",
        "print(\"您的BMI為:\",bmi)"
      ],
      "metadata": {
        "id": "Q9TENkSgpjev",
        "colab": {
          "base_uri": "https://localhost:8080/"
        },
        "outputId": "913a5ed4-6ebb-4705-f37d-d8475ed36f90"
      },
      "execution_count": 2,
      "outputs": [
        {
          "output_type": "stream",
          "name": "stdout",
          "text": [
            "請輸入身高（公分）: 176\n",
            "請輸入體重（公斤）: 55\n",
            "您的BMI為: 17.75568181818182\n"
          ]
        }
      ]
    }
  ],
  "metadata": {
    "colab": {
      "provenance": []
    },
    "kernelspec": {
      "display_name": "Python 3",
      "name": "python3"
    },
    "language_info": {
      "name": "python"
    }
  },
  "nbformat": 4,
  "nbformat_minor": 0
}