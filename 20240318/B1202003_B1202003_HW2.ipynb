{
  "nbformat": 4,
  "nbformat_minor": 0,
  "metadata": {
    "colab": {
      "provenance": []
    },
    "kernelspec": {
      "name": "python3",
      "display_name": "Python 3"
    },
    "language_info": {
      "name": "python"
    }
  },
  "cells": [
    {
      "cell_type": "code",
      "execution_count": null,
      "metadata": {
        "colab": {
          "base_uri": "https://localhost:8080/"
        },
        "id": "dGU1WVNveojG",
        "outputId": "88f9508f-4732-4d96-c4d0-0fdf4b161efe"
      },
      "outputs": [
        {
          "output_type": "stream",
          "name": "stdout",
          "text": [
            "A\n",
            "['K', 'H', 'U']\n"
          ]
        }
      ],
      "source": [
        "a = 'C,B,A'\n",
        "b = ['F', 'G', 'H']\n",
        "result = a.split(',') + b\n",
        "result[0] = 'K'\n",
        "c = result.pop(2)\n",
        "print(c)\n",
        "del result[1:4]\n",
        "result.append('U')\n",
        "print(result)"
      ]
    },
    {
      "cell_type": "code",
      "source": [
        "a=input()\n",
        "r = a[4]\n",
        "print(r)\n"
      ],
      "metadata": {
        "colab": {
          "base_uri": "https://localhost:8080/"
        },
        "id": "BR-XC7bvfMoV",
        "outputId": "80ab6fdb-ba7d-44ce-9177-50a7ba2cbcf3"
      },
      "execution_count": null,
      "outputs": [
        {
          "output_type": "stream",
          "name": "stdout",
          "text": [
            "12345678\n",
            "5\n"
          ]
        }
      ]
    },
    {
      "cell_type": "code",
      "source": [
        "x = \"My ID is b1202003\"\n",
        "\n",
        "a = x.count(\" \")\n",
        "print(a+1)\n",
        "\n",
        "b = x.split()\n",
        "c = len(b[3])\n",
        "print(c)"
      ],
      "metadata": {
        "colab": {
          "base_uri": "https://localhost:8080/"
        },
        "id": "W-gJjVnWgFGW",
        "outputId": "09faed60-0691-40f6-8ce5-fe1e1d37cb2e"
      },
      "execution_count": null,
      "outputs": [
        {
          "output_type": "stream",
          "name": "stdout",
          "text": [
            "4\n",
            "8\n"
          ]
        }
      ]
    },
    {
      "cell_type": "code",
      "source": [
        "a=\"I'm a student\"\n",
        "b=a.split(' ')\n",
        "print(b[0][2])\n"
      ],
      "metadata": {
        "colab": {
          "base_uri": "https://localhost:8080/"
        },
        "id": "INtCCVEiggH4",
        "outputId": "77e526b9-7908-4db2-fa36-1548ce41c576"
      },
      "execution_count": 1,
      "outputs": [
        {
          "output_type": "stream",
          "name": "stdout",
          "text": [
            "m\n"
          ]
        }
      ]
    }
  ]
}