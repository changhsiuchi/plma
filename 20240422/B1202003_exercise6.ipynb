{
  "nbformat": 4,
  "nbformat_minor": 0,
  "metadata": {
    "colab": {
      "provenance": []
    },
    "kernelspec": {
      "name": "python3",
      "display_name": "Python 3"
    },
    "language_info": {
      "name": "python"
    }
  },
  "cells": [
    {
      "cell_type": "code",
      "source": [
        "i = 1\n",
        "while i <= 9:\n",
        "    j = 1\n",
        "    while j <= 9:\n",
        "        print(str(j) + \" x \" + str(i) + \" = \" + str(i * j), end=\"\\t\")\n",
        "        j += 1\n",
        "    print()\n",
        "    i += 1"
      ],
      "metadata": {
        "colab": {
          "base_uri": "https://localhost:8080/"
        },
        "id": "VvqlmHjpqjvu",
        "outputId": "f8185c21-abbd-4a51-d3e1-651bdbbdaee0"
      },
      "execution_count": 12,
      "outputs": [
        {
          "output_type": "stream",
          "name": "stdout",
          "text": [
            "1 x 1 = 1\t2 x 1 = 2\t3 x 1 = 3\t4 x 1 = 4\t5 x 1 = 5\t6 x 1 = 6\t7 x 1 = 7\t8 x 1 = 8\t9 x 1 = 9\t\n",
            "1 x 2 = 2\t2 x 2 = 4\t3 x 2 = 6\t4 x 2 = 8\t5 x 2 = 10\t6 x 2 = 12\t7 x 2 = 14\t8 x 2 = 16\t9 x 2 = 18\t\n",
            "1 x 3 = 3\t2 x 3 = 6\t3 x 3 = 9\t4 x 3 = 12\t5 x 3 = 15\t6 x 3 = 18\t7 x 3 = 21\t8 x 3 = 24\t9 x 3 = 27\t\n",
            "1 x 4 = 4\t2 x 4 = 8\t3 x 4 = 12\t4 x 4 = 16\t5 x 4 = 20\t6 x 4 = 24\t7 x 4 = 28\t8 x 4 = 32\t9 x 4 = 36\t\n",
            "1 x 5 = 5\t2 x 5 = 10\t3 x 5 = 15\t4 x 5 = 20\t5 x 5 = 25\t6 x 5 = 30\t7 x 5 = 35\t8 x 5 = 40\t9 x 5 = 45\t\n",
            "1 x 6 = 6\t2 x 6 = 12\t3 x 6 = 18\t4 x 6 = 24\t5 x 6 = 30\t6 x 6 = 36\t7 x 6 = 42\t8 x 6 = 48\t9 x 6 = 54\t\n",
            "1 x 7 = 7\t2 x 7 = 14\t3 x 7 = 21\t4 x 7 = 28\t5 x 7 = 35\t6 x 7 = 42\t7 x 7 = 49\t8 x 7 = 56\t9 x 7 = 63\t\n",
            "1 x 8 = 8\t2 x 8 = 16\t3 x 8 = 24\t4 x 8 = 32\t5 x 8 = 40\t6 x 8 = 48\t7 x 8 = 56\t8 x 8 = 64\t9 x 8 = 72\t\n",
            "1 x 9 = 9\t2 x 9 = 18\t3 x 9 = 27\t4 x 9 = 36\t5 x 9 = 45\t6 x 9 = 54\t7 x 9 = 63\t8 x 9 = 72\t9 x 9 = 81\t\n"
          ]
        }
      ]
    },
    {
      "cell_type": "code",
      "source": [
        "import random\n",
        "a = random.sample(range(1,10),4)\n",
        "print(f'答案:{a}')\n",
        "m = 0\n",
        "n = 1\n",
        "while m == 0:\n",
        "  b = input('請輸入四個數字(不會重複):')\n",
        "  if len(b) > 4:\n",
        "    b = input('輸入數字過多，請輸入四個數字(不會重複):')\n",
        "  i = 0\n",
        "  j = 0\n",
        "  x = 0\n",
        "  y = 0\n",
        "  while i < 4:\n",
        "    while j < 4:\n",
        "      if int(b[i]) == int(a[j]) and i != j:\n",
        "        x = x + 1\n",
        "      if int(b[i]) == int(a[j]) and i == j:\n",
        "        y = y + 1\n",
        "      j +=1\n",
        "    i +=1\n",
        "    j = 0\n",
        "  print(f'{str(b)}: {y}A{x}B')\n",
        "  if y == 4:\n",
        "    print(f'答對了!總共猜了{n}次')\n",
        "    m = 1\n",
        "  else:\n",
        "    n += 1"
      ],
      "metadata": {
        "colab": {
          "base_uri": "https://localhost:8080/"
        },
        "id": "sfuc-ED010gg",
        "outputId": "0056a974-2f17-471d-d5ef-3868f2ccd3b5"
      },
      "execution_count": 14,
      "outputs": [
        {
          "output_type": "stream",
          "name": "stdout",
          "text": [
            "答案:[8, 5, 1, 6]\n",
            "請輸入四個數字(不會重複):12345\n",
            "輸入數字過多，請輸入四個數字(不會重複):4253\n",
            "4253: 0A1B\n",
            "請輸入四個數字(不會重複):5478\n",
            "5478: 0A2B\n",
            "請輸入四個數字(不會重複):4445\n",
            "4445: 0A1B\n",
            "請輸入四個數字(不會重複):8516\n",
            "8516: 4A0B\n",
            "答對了!總共猜了4次\n"
          ]
        }
      ]
    }
  ]
}