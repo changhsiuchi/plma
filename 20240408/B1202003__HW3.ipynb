{
  "nbformat": 4,
  "nbformat_minor": 0,
  "metadata": {
    "colab": {
      "provenance": []
    },
    "kernelspec": {
      "name": "python3",
      "display_name": "Python 3"
    },
    "language_info": {
      "name": "python"
    }
  },
  "cells": [
    {
      "cell_type": "code",
      "source": [
        "year = int(input(\"請輸入年份：\"))\n",
        "\n",
        "if year <= 1582:\n",
        "    if (year % 4 == 0):\n",
        "        print(\"閏年\")\n",
        "    else:\n",
        "        print(\"平年\")\n",
        "\n",
        "else:\n",
        "    if (year % 4 == 0 and year % 100 != 0) or (year % 400 == 0):\n",
        "        print(\"閏年\")\n",
        "    else:\n",
        "        print(\"平年\")\n"
      ],
      "metadata": {
        "colab": {
          "base_uri": "https://localhost:8080/"
        },
        "id": "UWl-AnHbGFkm",
        "outputId": "dcd02a8b-2d52-4c78-a8bf-9865e66edbf2"
      },
      "execution_count": 9,
      "outputs": [
        {
          "output_type": "stream",
          "name": "stdout",
          "text": [
            "請輸入年份：1984\n",
            "閏年\n"
          ]
        }
      ]
    }
  ]
}