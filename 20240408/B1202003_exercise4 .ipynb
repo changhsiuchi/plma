{
  "nbformat": 4,
  "nbformat_minor": 0,
  "metadata": {
    "colab": {
      "provenance": []
    },
    "kernelspec": {
      "name": "python3",
      "display_name": "Python 3"
    },
    "language_info": {
      "name": "python"
    }
  },
  "cells": [
    {
      "cell_type": "code",
      "execution_count": 4,
      "metadata": {
        "colab": {
          "base_uri": "https://localhost:8080/"
        },
        "id": "nggqkVWKjpYq",
        "outputId": "2e7eed04-3046-4b12-c4f7-b457bdebbd4e"
      },
      "outputs": [
        {
          "output_type": "stream",
          "name": "stdout",
          "text": [
            "請輸入身高(公分): 176\n",
            "請輸入體重(公斤): 55\n",
            "17.75568181818182\n",
            "過輕\n"
          ]
        }
      ],
      "source": [
        "height = float(input(\"請輸入身高(公分): \"))\n",
        "weight = float(input(\"請輸入體重(公斤): \"))\n",
        "\n",
        "bmi = weight / ((height / 100) ** 2)\n",
        "print(bmi)\n",
        "if bmi < 18.5:\n",
        "  print(\"過輕\")\n",
        "elif 18.5 <= bmi < 24:\n",
        "  print(\"適中\")\n",
        "elif 24 <= bmi < 27:\n",
        "  print(\"過重\")\n",
        "else:print(\"肥胖\")"
      ]
    },
    {
      "cell_type": "code",
      "source": [
        "num1 = float(input(\"請輸入第一個數字: \"))\n",
        "operator = input(\"請輸入運算符號 (+, -, *, /): \")\n",
        "num2 = float(input(\"請輸入第二個數字: \"))\n",
        "\n",
        "if operator == '+':\n",
        "  result = num1 + num2\n",
        "elif operator == '-':\n",
        "  result = num1 - num2\n",
        "elif operator == '*':\n",
        "  result = num1 * num2\n",
        "elif operator == '/':\n",
        "  if num2 != 0:\n",
        "    result = num1 / num2\n",
        "  else:\n",
        "    print(\"除數不能為0\")\n",
        "\n",
        "else:print(\"運算符號無效\")\n",
        "\n",
        "print(result)"
      ],
      "metadata": {
        "colab": {
          "base_uri": "https://localhost:8080/"
        },
        "id": "UuDrxE7cmgx7",
        "outputId": "65a75961-cc05-4e1f-b897-fbdfb0f36de5"
      },
      "execution_count": 8,
      "outputs": [
        {
          "output_type": "stream",
          "name": "stdout",
          "text": [
            "請輸入第一個數字: 9\n",
            "請輸入運算符號 (+, -, *, /): /\n",
            "請輸入第二個數字: 4\n",
            "2.25\n"
          ]
        }
      ]
    }
  ]
}