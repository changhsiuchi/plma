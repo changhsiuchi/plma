{
  "nbformat": 4,
  "nbformat_minor": 0,
  "metadata": {
    "colab": {
      "provenance": []
    },
    "kernelspec": {
      "name": "python3",
      "display_name": "Python 3"
    },
    "language_info": {
      "name": "python"
    }
  },
  "cells": [
    {
      "cell_type": "code",
      "execution_count": 13,
      "metadata": {
        "colab": {
          "base_uri": "https://localhost:8080/"
        },
        "id": "YXhm31aWaeOJ",
        "outputId": "87b2a12f-9c0e-4f54-8ec9-c78e8862a9a1"
      },
      "outputs": [
        {
          "output_type": "stream",
          "name": "stdout",
          "text": [
            "88.33333333333333\n",
            "{'姓名': '賴宏瑋', '性別': '男', '學號': 'M1129020'}\n",
            "95.0\n",
            "{'姓名': '許珈綺', '性別': '女', '學號': 'M1229001'}\n"
          ]
        }
      ],
      "source": [
        "dict1 = {'姓名': '賴宏瑋', '性別': '男', '作業分數': [95, 100, 90]}\n",
        "dict2 = {'學號': 'M1129020'}\n",
        "\n",
        "dict3 = {**dict1, **dict2}\n",
        "\n",
        "import copy\n",
        "dict4 = copy.deepcopy(dict3)\n",
        "\n",
        "dict3['作業分數'][1] = 80\n",
        "\n",
        "dict4['姓名'] = '許珈綺'\n",
        "dict4['性別'] = '女'\n",
        "dict4['學號'] = 'M1229001'\n",
        "\n",
        "scores_dict3 = dict3.pop('作業分數')\n",
        "avg_dict3 = sum(scores_dict3) / len(scores_dict3)\n",
        "print(avg_dict3)\n",
        "print(dict3)\n",
        "\n",
        "scores_dict4 = dict4.pop('作業分數')\n",
        "avg_dict4 = sum(scores_dict4) / len(scores_dict4)\n",
        "print(avg_dict4)\n",
        "print(dict4)\n"
      ]
    },
    {
      "cell_type": "code",
      "source": [
        "a = [100, 50, 45, 60, 90, 95, 80, 50]\n",
        "\n",
        "a.insert(0, 88)\n",
        "\n",
        "a[2:5] = [70, 50]\n",
        "\n",
        "a.remove(50)\n",
        "\n",
        "result = a.pop(0) + a.pop(-1)\n",
        "\n",
        "print(result)\n"
      ],
      "metadata": {
        "colab": {
          "base_uri": "https://localhost:8080/"
        },
        "id": "b0t92QVZgsXe",
        "outputId": "630bb0f0-0e36-422e-da77-50eabfbd951a"
      },
      "execution_count": 14,
      "outputs": [
        {
          "output_type": "stream",
          "name": "stdout",
          "text": [
            "138\n"
          ]
        }
      ]
    },
    {
      "cell_type": "code",
      "source": [
        "A = 347//3\n",
        "B = 347%3\n",
        "\n",
        "result = A ** B\n",
        "\n",
        "print(A)\n",
        "print(B)\n",
        "print(result)\n"
      ],
      "metadata": {
        "colab": {
          "base_uri": "https://localhost:8080/"
        },
        "id": "_0t7wM8TiNwt",
        "outputId": "712527e8-269b-4b96-9932-5d2e40d712c1"
      },
      "execution_count": 15,
      "outputs": [
        {
          "output_type": "stream",
          "name": "stdout",
          "text": [
            "115\n",
            "2\n",
            "13225\n"
          ]
        }
      ]
    }
  ]
}