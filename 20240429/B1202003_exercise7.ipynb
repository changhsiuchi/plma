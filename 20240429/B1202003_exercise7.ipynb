{
  "nbformat": 4,
  "nbformat_minor": 0,
  "metadata": {
    "colab": {
      "provenance": []
    },
    "kernelspec": {
      "name": "python3",
      "display_name": "Python 3"
    },
    "language_info": {
      "name": "python"
    }
  },
  "cells": [
    {
      "cell_type": "code",
      "source": [
        "def draw_christmas_tree(height):\n",
        "    if height < 7:\n",
        "        print(\"太矮\")\n",
        "        return\n",
        "\n",
        "    for i in range(1, height + 1):\n",
        "      spaces = \" \" * (height - i)\n",
        "      stars = \"*\" * (2 * i - 1)\n",
        "      print(spaces + stars)\n",
        "\n",
        "    for k in range(height + 2, height + 7):\n",
        "      spaces = \" \" * (height - 2)\n",
        "      stars = \"*\" * 3\n",
        "      print (spaces + stars)\n",
        "\n",
        "tree_height = int(input())\n",
        "draw_christmas_tree(tree_height)\n"
      ],
      "metadata": {
        "colab": {
          "base_uri": "https://localhost:8080/"
        },
        "id": "E7WkuMjj5LjH",
        "outputId": "49d8acf4-687c-46d2-c1a1-2f3e49206aaa"
      },
      "execution_count": 44,
      "outputs": [
        {
          "output_type": "stream",
          "name": "stdout",
          "text": [
            "13\n",
            "            *\n",
            "           ***\n",
            "          *****\n",
            "         *******\n",
            "        *********\n",
            "       ***********\n",
            "      *************\n",
            "     ***************\n",
            "    *****************\n",
            "   *******************\n",
            "  *********************\n",
            " ***********************\n",
            "*************************\n",
            "           ***\n",
            "           ***\n",
            "           ***\n",
            "           ***\n",
            "           ***\n"
          ]
        }
      ]
    },
    {
      "cell_type": "code",
      "source": [
        "def calculate_bmi(height, weight):\n",
        "    bmi = weight / ((height / 100) ** 2)\n",
        "    return bmi\n",
        "\n",
        "def evaluate_bmi(bmi):\n",
        "    if bmi < 18.5:\n",
        "        return \"過輕\"\n",
        "    elif bmi >= 18.5 and bmi < 24:\n",
        "        return \"適中\"\n",
        "    elif bmi >= 24 and bmi < 27:\n",
        "        return \"過重\"\n",
        "    else:\n",
        "        return \"肥胖\"\n",
        "\n",
        "try:\n",
        "    height = float(input(\"身高(公分): \"))\n",
        "    weight = float(input(\"體重(公斤): \"))\n",
        "    bmi = calculate_bmi(height, weight)\n",
        "    print(\"BMI:\", bmi)\n",
        "    print(\"體位:\", evaluate_bmi(bmi))\n",
        "except ValueError:\n",
        "    print(\"輸入內容錯誤\")\n"
      ],
      "metadata": {
        "colab": {
          "base_uri": "https://localhost:8080/"
        },
        "id": "iAarM_2z3XgV",
        "outputId": "7c78e188-18a8-4aa9-b1dd-813765df5ed8"
      },
      "execution_count": 35,
      "outputs": [
        {
          "output_type": "stream",
          "name": "stdout",
          "text": [
            "身高(公分): 17606\n",
            "體重(公斤): 60\n",
            "BMI: 0.0019356634755619713\n",
            "體位: 過輕\n"
          ]
        }
      ]
    }
  ]
}